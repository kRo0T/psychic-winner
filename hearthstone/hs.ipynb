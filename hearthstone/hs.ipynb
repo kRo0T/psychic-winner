{
 "cells": [
  {
   "cell_type": "code",
   "execution_count": 10,
   "metadata": {
    "collapsed": false
   },
   "outputs": [],
   "source": [
    "import pandas as pd\n",
    "import numpy as np\n",
    "import matplotlib.pyplot as plt\n",
    "import xgboost as xgb\n",
    "from sklearn.model_selection import train_test_split\n",
    "from sklearn.preprocessing import StandardScaler\n",
    "from sklearn.linear_model import RidgeClassifier, LogisticRegression\n",
    "from sklearn.model_selection import cross_val_score, learning_curve\n",
    "from sklearn.grid_search import GridSearchCV\n",
    "from sklearn import ensemble , cross_validation\n",
    "from sklearn.ensemble import ExtraTreesClassifier\n",
    "from sklearn.feature_selection import SelectFromModel\n",
    "from sklearn.metrics import accuracy_score\n",
    "\n",
    "\n",
    "%matplotlib inline"
   ]
  },
  {
   "cell_type": "markdown",
   "metadata": {},
   "source": [
    "## Считывание и препроцессинг данных"
   ]
  },
  {
   "cell_type": "code",
   "execution_count": 2,
   "metadata": {
    "collapsed": false
   },
   "outputs": [],
   "source": [
    "data_t = pd.read_csv('trainingData_tabular_chunk1.csv')"
   ]
  },
  {
   "cell_type": "code",
   "execution_count": 3,
   "metadata": {
    "collapsed": false,
    "scrolled": true
   },
   "outputs": [
    {
     "data": {
      "text/html": [
       "<div>\n",
       "<table border=\"1\" class=\"dataframe\">\n",
       "  <thead>\n",
       "    <tr style=\"text-align: right;\">\n",
       "      <th></th>\n",
       "      <th>gamestate_id</th>\n",
       "      <th>decision</th>\n",
       "      <th>turn</th>\n",
       "      <th>opponent.armor</th>\n",
       "      <th>opponent.attack</th>\n",
       "      <th>opponent.hero_card_id</th>\n",
       "      <th>opponent.hp</th>\n",
       "      <th>opponent.special_skill_used</th>\n",
       "      <th>opponent.weapon_durability</th>\n",
       "      <th>opponent.crystals_all</th>\n",
       "      <th>...</th>\n",
       "      <th>player.played.hp_current</th>\n",
       "      <th>player.played.hp_max</th>\n",
       "      <th>player.hand.nOfMinions</th>\n",
       "      <th>player.hand.nOfSpells</th>\n",
       "      <th>player.hand.nOfWeapons</th>\n",
       "      <th>player.hand.nOfCards</th>\n",
       "      <th>player.hand.nOfPlayable</th>\n",
       "      <th>player.hand.attack</th>\n",
       "      <th>player.hand.crystals_cost</th>\n",
       "      <th>player.hand.hp</th>\n",
       "    </tr>\n",
       "  </thead>\n",
       "  <tbody>\n",
       "    <tr>\n",
       "      <th>0</th>\n",
       "      <td>4687346</td>\n",
       "      <td>1</td>\n",
       "      <td>14</td>\n",
       "      <td>0</td>\n",
       "      <td>0</td>\n",
       "      <td>798</td>\n",
       "      <td>5</td>\n",
       "      <td>0</td>\n",
       "      <td>0</td>\n",
       "      <td>10</td>\n",
       "      <td>...</td>\n",
       "      <td>20</td>\n",
       "      <td>23</td>\n",
       "      <td>4</td>\n",
       "      <td>0</td>\n",
       "      <td>1</td>\n",
       "      <td>5</td>\n",
       "      <td>0</td>\n",
       "      <td>20</td>\n",
       "      <td>22</td>\n",
       "      <td>17</td>\n",
       "    </tr>\n",
       "    <tr>\n",
       "      <th>1</th>\n",
       "      <td>3270826</td>\n",
       "      <td>1</td>\n",
       "      <td>7</td>\n",
       "      <td>0</td>\n",
       "      <td>0</td>\n",
       "      <td>754</td>\n",
       "      <td>22</td>\n",
       "      <td>0</td>\n",
       "      <td>0</td>\n",
       "      <td>6</td>\n",
       "      <td>...</td>\n",
       "      <td>16</td>\n",
       "      <td>17</td>\n",
       "      <td>3</td>\n",
       "      <td>2</td>\n",
       "      <td>2</td>\n",
       "      <td>7</td>\n",
       "      <td>0</td>\n",
       "      <td>17</td>\n",
       "      <td>26</td>\n",
       "      <td>20</td>\n",
       "    </tr>\n",
       "    <tr>\n",
       "      <th>2</th>\n",
       "      <td>3189487</td>\n",
       "      <td>1</td>\n",
       "      <td>5</td>\n",
       "      <td>3</td>\n",
       "      <td>0</td>\n",
       "      <td>612</td>\n",
       "      <td>29</td>\n",
       "      <td>0</td>\n",
       "      <td>0</td>\n",
       "      <td>4</td>\n",
       "      <td>...</td>\n",
       "      <td>0</td>\n",
       "      <td>0</td>\n",
       "      <td>5</td>\n",
       "      <td>0</td>\n",
       "      <td>0</td>\n",
       "      <td>5</td>\n",
       "      <td>2</td>\n",
       "      <td>26</td>\n",
       "      <td>28</td>\n",
       "      <td>27</td>\n",
       "    </tr>\n",
       "    <tr>\n",
       "      <th>3</th>\n",
       "      <td>4098946</td>\n",
       "      <td>1</td>\n",
       "      <td>8</td>\n",
       "      <td>0</td>\n",
       "      <td>0</td>\n",
       "      <td>390</td>\n",
       "      <td>26</td>\n",
       "      <td>0</td>\n",
       "      <td>0</td>\n",
       "      <td>7</td>\n",
       "      <td>...</td>\n",
       "      <td>2</td>\n",
       "      <td>2</td>\n",
       "      <td>7</td>\n",
       "      <td>1</td>\n",
       "      <td>1</td>\n",
       "      <td>9</td>\n",
       "      <td>9</td>\n",
       "      <td>36</td>\n",
       "      <td>44</td>\n",
       "      <td>36</td>\n",
       "    </tr>\n",
       "    <tr>\n",
       "      <th>4</th>\n",
       "      <td>2661127</td>\n",
       "      <td>0</td>\n",
       "      <td>13</td>\n",
       "      <td>0</td>\n",
       "      <td>0</td>\n",
       "      <td>25</td>\n",
       "      <td>30</td>\n",
       "      <td>0</td>\n",
       "      <td>0</td>\n",
       "      <td>10</td>\n",
       "      <td>...</td>\n",
       "      <td>7</td>\n",
       "      <td>7</td>\n",
       "      <td>4</td>\n",
       "      <td>0</td>\n",
       "      <td>0</td>\n",
       "      <td>4</td>\n",
       "      <td>4</td>\n",
       "      <td>13</td>\n",
       "      <td>13</td>\n",
       "      <td>14</td>\n",
       "    </tr>\n",
       "  </tbody>\n",
       "</table>\n",
       "<p>5 rows × 45 columns</p>\n",
       "</div>"
      ],
      "text/plain": [
       "   gamestate_id  decision  turn  opponent.armor  opponent.attack  \\\n",
       "0       4687346         1    14               0                0   \n",
       "1       3270826         1     7               0                0   \n",
       "2       3189487         1     5               3                0   \n",
       "3       4098946         1     8               0                0   \n",
       "4       2661127         0    13               0                0   \n",
       "\n",
       "   opponent.hero_card_id  opponent.hp  opponent.special_skill_used  \\\n",
       "0                    798            5                            0   \n",
       "1                    754           22                            0   \n",
       "2                    612           29                            0   \n",
       "3                    390           26                            0   \n",
       "4                     25           30                            0   \n",
       "\n",
       "   opponent.weapon_durability  opponent.crystals_all       ...        \\\n",
       "0                           0                     10       ...         \n",
       "1                           0                      6       ...         \n",
       "2                           0                      4       ...         \n",
       "3                           0                      7       ...         \n",
       "4                           0                     10       ...         \n",
       "\n",
       "   player.played.hp_current  player.played.hp_max  player.hand.nOfMinions  \\\n",
       "0                        20                    23                       4   \n",
       "1                        16                    17                       3   \n",
       "2                         0                     0                       5   \n",
       "3                         2                     2                       7   \n",
       "4                         7                     7                       4   \n",
       "\n",
       "   player.hand.nOfSpells  player.hand.nOfWeapons  player.hand.nOfCards  \\\n",
       "0                      0                       1                     5   \n",
       "1                      2                       2                     7   \n",
       "2                      0                       0                     5   \n",
       "3                      1                       1                     9   \n",
       "4                      0                       0                     4   \n",
       "\n",
       "   player.hand.nOfPlayable  player.hand.attack  player.hand.crystals_cost  \\\n",
       "0                        0                  20                         22   \n",
       "1                        0                  17                         26   \n",
       "2                        2                  26                         28   \n",
       "3                        9                  36                         44   \n",
       "4                        4                  13                         13   \n",
       "\n",
       "   player.hand.hp  \n",
       "0              17  \n",
       "1              20  \n",
       "2              27  \n",
       "3              36  \n",
       "4              14  \n",
       "\n",
       "[5 rows x 45 columns]"
      ]
     },
     "execution_count": 3,
     "metadata": {},
     "output_type": "execute_result"
    }
   ],
   "source": [
    "data_t.head()"
   ]
  },
  {
   "cell_type": "code",
   "execution_count": 4,
   "metadata": {
    "collapsed": false
   },
   "outputs": [],
   "source": [
    "labels = data_t.decision\n",
    "data_t.drop(['decision', 'gamestate_id'], axis=1, inplace=True)"
   ]
  },
  {
   "cell_type": "code",
   "execution_count": 5,
   "metadata": {
    "collapsed": false
   },
   "outputs": [],
   "source": [
    "train_data, test_data, train_labels, test_labels = train_test_split(np.array(data_t), np.array(labels), test_size=0.3)"
   ]
  },
  {
   "cell_type": "code",
   "execution_count": 6,
   "metadata": {
    "collapsed": false,
    "scrolled": true
   },
   "outputs": [
    {
     "data": {
      "text/plain": [
       "array([  8.93591143e+00,   2.81634286e-01,   2.46048571e-01,\n",
       "         6.27420954e+02,   2.12273657e+01,   6.93742857e-02,\n",
       "         1.73251429e-01,   6.93568286e+00,   2.24303429e+00,\n",
       "         1.68995743e+01,   5.23142857e-03,   4.90855429e+00,\n",
       "         1.66622857e+00,   3.42154286e-01,   3.46511429e-01,\n",
       "         6.33636189e+02,   2.17515143e+01,   1.59185714e-01,\n",
       "         2.26528571e-01,   7.42943714e+00,   4.10097429e+00,\n",
       "         1.70282543e+01,   3.84000000e-03,   4.60856857e+00,\n",
       "         1.87326000e+00,   1.66622857e+00,   5.63088286e+00,\n",
       "         5.59277143e+00,   5.31042286e+00,   6.56383143e+00,\n",
       "         1.87326000e+00,   6.30701143e+00,   6.19863714e+00,\n",
       "         5.91323714e+00,   7.33887429e+00,   3.37144000e+00,\n",
       "         1.06725714e+00,   1.69871429e-01,   4.60856857e+00,\n",
       "         2.34682286e+00,   1.36452057e+01,   1.87575457e+01,\n",
       "         1.54982771e+01])"
      ]
     },
     "execution_count": 6,
     "metadata": {},
     "output_type": "execute_result"
    }
   ],
   "source": [
    "train_data.mean(axis=0)"
   ]
  },
  {
   "cell_type": "code",
   "execution_count": 7,
   "metadata": {
    "collapsed": false
   },
   "outputs": [
    {
     "name": "stderr",
     "output_type": "stream",
     "text": [
      "/home/manjake/anaconda2/lib/python2.7/site-packages/sklearn/utils/validation.py:429: DataConversionWarning: Data with input dtype int64 was converted to float64 by StandardScaler.\n",
      "  warnings.warn(msg, _DataConversionWarning)\n"
     ]
    }
   ],
   "source": [
    "scaler = StandardScaler().fit(train_data, train_labels) # нормализируем данные"
   ]
  },
  {
   "cell_type": "code",
   "execution_count": 8,
   "metadata": {
    "collapsed": false
   },
   "outputs": [],
   "source": [
    "train_data_scaled = scaler.transform(train_data)\n",
    "test_data_scaled = scaler.transform(test_data)"
   ]
  },
  {
   "cell_type": "code",
   "execution_count": 9,
   "metadata": {
    "collapsed": false,
    "scrolled": true
   },
   "outputs": [
    {
     "data": {
      "text/plain": [
       "array([  2.19806871e-16,  -6.09754152e-16,  -3.23295295e-15,\n",
       "        -4.25007648e-15,   1.28732644e-15,   7.75784516e-15,\n",
       "         4.42609758e-16,  -5.40985411e-17,   7.31602081e-16,\n",
       "         2.51777964e-17,   3.73134678e-15,  -1.51505475e-16,\n",
       "         6.17671477e-15,  -1.86734691e-15,  -7.50519329e-16,\n",
       "        -2.45939142e-16,   1.37850889e-15,  -8.91972845e-16,\n",
       "        -2.14129539e-15,   2.53382315e-16,   1.55786828e-15,\n",
       "        -5.28789155e-16,   1.15921035e-15,   1.08387204e-15,\n",
       "        -7.02761658e-17,   6.17671477e-15,   9.16316626e-16,\n",
       "        -7.79313439e-16,   1.85909922e-15,  -1.01861369e-15,\n",
       "        -7.02761658e-17,  -9.70015655e-16,   2.17587852e-18,\n",
       "        -2.20440047e-15,  -4.11553688e-16,   9.35109450e-16,\n",
       "         1.72650362e-15,   3.03044891e-16,   1.08387204e-15,\n",
       "         3.31000307e-16,   2.46355317e-17,  -8.41707656e-17,\n",
       "        -2.25058067e-17])"
      ]
     },
     "execution_count": 9,
     "metadata": {},
     "output_type": "execute_result"
    }
   ],
   "source": [
    "train_data_scaled.mean(axis=0)"
   ]
  },
  {
   "cell_type": "code",
   "execution_count": 12,
   "metadata": {
    "collapsed": false
   },
   "outputs": [
    {
     "data": {
      "text/plain": [
       "turn                             0.025309\n",
       "opponent.armor                  -0.050317\n",
       "opponent.attack                  0.006425\n",
       "opponent.hero_card_id            0.006266\n",
       "opponent.hp                     -0.210190\n",
       "opponent.special_skill_used     -0.017355\n",
       "opponent.weapon_durability       0.010245\n",
       "opponent.crystals_all            0.024226\n",
       "opponent.crystals_current        0.076172\n",
       "opponent.deck_count             -0.021028\n",
       "opponent.fatigue_damage          0.020843\n",
       "opponent.hand_count              0.033283\n",
       "opponent.played_minions_count   -0.231923\n",
       "player.armor                     0.054218\n",
       "player.attack                    0.001640\n",
       "player.hero_card_id              0.001729\n",
       "player.hp                        0.171204\n",
       "player.special_skill_used        0.007366\n",
       "player.weapon_durability        -0.006736\n",
       "player.crystals_all              0.026969\n",
       "player.crystals_current         -0.008248\n",
       "player.deck_count               -0.025536\n",
       "player.fatigue_damage            0.005818\n",
       "player.hand_count               -0.049187\n",
       "player.played_minions_count      0.260845\n",
       "opponent.played.nOfCards        -0.231923\n",
       "opponent.played.attack          -0.256747\n",
       "opponent.played.crystals_cost   -0.243267\n",
       "opponent.played.hp_current      -0.243814\n",
       "opponent.played.hp_max          -0.253927\n",
       "player.played.nOfCards           0.260845\n",
       "player.played.attack             0.293183\n",
       "player.played.crystals_cost      0.281333\n",
       "player.played.hp_current         0.273604\n",
       "player.played.hp_max             0.291146\n",
       "player.hand.nOfMinions          -0.022567\n",
       "player.hand.nOfSpells           -0.039710\n",
       "player.hand.nOfWeapons          -0.022335\n",
       "player.hand.nOfCards            -0.049187\n",
       "player.hand.nOfPlayable         -0.030980\n",
       "player.hand.attack              -0.013378\n",
       "player.hand.crystals_cost       -0.031994\n",
       "player.hand.hp                  -0.011619\n",
       "dtype: float64"
      ]
     },
     "execution_count": 12,
     "metadata": {},
     "output_type": "execute_result"
    }
   ],
   "source": [
    "data_t.corrwith(labels) # корреляция признаков с целевым значением"
   ]
  },
  {
   "cell_type": "markdown",
   "metadata": {},
   "source": [
    "## Задание 1"
   ]
  },
  {
   "cell_type": "markdown",
   "metadata": {},
   "source": [
    "Логистическая регрессия"
   ]
  },
  {
   "cell_type": "code",
   "execution_count": 11,
   "metadata": {
    "collapsed": true
   },
   "outputs": [],
   "source": [
    "toy_data_scaled, toy_labels = train_data_scaled[:10000], train_labels[:10000]"
   ]
  },
  {
   "cell_type": "code",
   "execution_count": 13,
   "metadata": {
    "collapsed": true
   },
   "outputs": [],
   "source": [
    "lr = LogisticRegression().fit(toy_data_scaled, toy_labels)"
   ]
  },
  {
   "cell_type": "code",
   "execution_count": 14,
   "metadata": {
    "collapsed": false
   },
   "outputs": [
    {
     "data": {
      "text/plain": [
       "0.69607333333333332"
      ]
     },
     "execution_count": 14,
     "metadata": {},
     "output_type": "execute_result"
    }
   ],
   "source": [
    "accuracy_score(lr.predict(test_data_scaled), test_labels)"
   ]
  },
  {
   "cell_type": "code",
   "execution_count": 15,
   "metadata": {
    "collapsed": true
   },
   "outputs": [],
   "source": [
    "train_sizes, train_scores, test_scores = learning_curve(\n",
    "        LogisticRegression(), toy_data_scaled, toy_labels, cv=5, train_sizes=np.linspace(.1, 1.0, 20), scoring='accuracy')"
   ]
  },
  {
   "cell_type": "code",
   "execution_count": 16,
   "metadata": {
    "collapsed": false,
    "scrolled": true
   },
   "outputs": [
    {
     "data": {
      "image/png": "[encoded data removed]",
      "text/plain": [
       "<matplotlib.figure.Figure at 0x7fedfe37f790>"
      ]
     },
     "metadata": {},
     "output_type": "display_data"
    }
   ],
   "source": [
    "plt.plot(train_sizes, train_scores.mean(axis=1), label='train')\n",
    "plt.plot(train_sizes, test_scores.mean(axis=1), label='test')\n",
    "plt.legend(loc=0)\n",
    "plt.show()"
   ]
  },
  {
   "cell_type": "markdown",
   "metadata": {},
   "source": [
    "Из графика видно, что модель обучается относительно неплохо, ошибка на трейне и тесте сходится.\n",
    "Попробуем использовать большую выборку"
   ]
  },
  {
   "cell_type": "code",
   "execution_count": 18,
   "metadata": {
    "collapsed": false
   },
   "outputs": [],
   "source": [
    "lr_ext = LogisticRegression().fit(train_data_scaled, train_labels)"
   ]
  },
  {
   "cell_type": "code",
   "execution_count": 19,
   "metadata": {
    "collapsed": false
   },
   "outputs": [
    {
     "data": {
      "text/plain": [
       "0.69874000000000003"
      ]
     },
     "execution_count": 19,
     "metadata": {},
     "output_type": "execute_result"
    }
   ],
   "source": [
    "accuracy_score(lr_ext.predict(test_data_scaled), test_labels)"
   ]
  },
  {
   "cell_type": "code",
   "execution_count": 20,
   "metadata": {
    "collapsed": true
   },
   "outputs": [],
   "source": [
    "train_sizes, train_scores, test_scores = learning_curve(\n",
    "        LogisticRegression(), train_data_scaled, train_labels, cv=5, train_sizes=np.linspace(.1, 0.4, 10), scoring='accuracy')"
   ]
  },
  {
   "cell_type": "code",
   "execution_count": 21,
   "metadata": {
    "collapsed": false,
    "scrolled": true
   },
   "outputs": [
    {
     "data": {
      "image/png": "[encoded data removed]",
      "text/plain": [
       "<matplotlib.figure.Figure at 0x7fedc7ab1410>"
      ]
     },
     "metadata": {},
     "output_type": "display_data"
    }
   ],
   "source": [
    "plt.plot(train_sizes, train_scores.mean(axis=1), label='train')\n",
    "plt.plot(train_sizes, test_scores.mean(axis=1), label='test')\n",
    "plt.legend(loc=0)\n",
    "plt.show()"
   ]
  },
  {
   "cell_type": "markdown",
   "metadata": {},
   "source": [
    "Стало немного лучше"
   ]
  },
  {
   "cell_type": "markdown",
   "metadata": {},
   "source": [
    "## Отбор признаков"
   ]
  },
  {
   "cell_type": "code",
   "execution_count": 22,
   "metadata": {
    "collapsed": true
   },
   "outputs": [],
   "source": [
    "forest = ExtraTreesClassifier(n_estimators=250,\n",
    "                              random_state=0)\n",
    "\n",
    "forest.fit(toy_data_scaled, toy_labels)\n",
    "importances = forest.feature_importances_\n",
    "std = np.std([tree.feature_importances_ for tree in forest.estimators_],\n",
    "             axis=0)\n",
    "indices = np.argsort(importances)[::-1]"
   ]
  },
  {
   "cell_type": "code",
   "execution_count": 23,
   "metadata": {
    "collapsed": false
   },
   "outputs": [
    {
     "name": "stdout",
     "output_type": "stream",
     "text": [
      "Feature ranking:\n",
      "1. feature 4 (0.049526), opponent.hp\n",
      "2. feature 16 (0.044831), player.hp\n",
      "3. feature 29 (0.034492), opponent.played.hp_max\n",
      "4. feature 26 (0.033564), opponent.played.attack\n",
      "5. feature 31 (0.033470), player.played.attack\n",
      "6. feature 34 (0.032995), player.played.hp_max\n",
      "7. feature 41 (0.032846), player.hand.crystals_cost\n",
      "8. feature 42 (0.032734), player.hand.hp\n",
      "9. feature 28 (0.032372), opponent.played.hp_current\n",
      "10. feature 32 (0.032077), player.played.crystals_cost\n",
      "11. feature 3 (0.032028), opponent.hero_card_id\n",
      "12. feature 40 (0.031718), player.hand.attack\n",
      "13. feature 27 (0.031445), opponent.played.crystals_cost\n",
      "14. feature 15 (0.030750), player.hero_card_id\n",
      "15. feature 33 (0.028806), player.played.hp_current\n",
      "16. feature 11 (0.027422), opponent.hand_count\n",
      "17. feature 8 (0.025965), opponent.crystals_current\n",
      "18. feature 39 (0.024909), player.hand.nOfPlayable\n",
      "19. feature 35 (0.024875), player.hand.nOfMinions\n",
      "20. feature 36 (0.024343), player.hand.nOfSpells\n",
      "21. feature 24 (0.024257), player.played_minions_count\n",
      "22. feature 20 (0.024195), player.crystals_current\n",
      "23. feature 21 (0.024041), player.deck_count\n",
      "24. feature 9 (0.023696), opponent.deck_count\n",
      "25. feature 30 (0.023671), player.played.nOfCards\n",
      "26. feature 0 (0.021907), turn\n",
      "27. feature 12 (0.020836), opponent.played_minions_count\n",
      "28. feature 38 (0.020729), player.hand.nOfCards\n",
      "29. feature 23 (0.020726), player.hand_count\n",
      "30. feature 25 (0.020455), opponent.played.nOfCards\n",
      "31. feature 7 (0.018887), opponent.crystals_all\n",
      "32. feature 19 (0.018223), player.crystals_all\n",
      "33. feature 37 (0.012970), player.hand.nOfWeapons\n",
      "34. feature 13 (0.012536), player.armor\n",
      "35. feature 17 (0.012254), player.special_skill_used\n",
      "36. feature 1 (0.011509), opponent.armor\n",
      "37. feature 14 (0.010731), player.attack\n",
      "38. feature 18 (0.010566), player.weapon_durability\n",
      "39. feature 6 (0.009488), opponent.weapon_durability\n",
      "40. feature 2 (0.008334), opponent.attack\n",
      "41. feature 5 (0.007955), opponent.special_skill_used\n",
      "42. feature 22 (0.000444), player.fatigue_damage\n",
      "43. feature 10 (0.000423), opponent.fatigue_damage\n"
     ]
    },
    {
     "data": {
      "image/png": "[encoded data removed]",
      "text/plain": [
       "<matplotlib.figure.Figure at 0x7fedc7776cd0>"
      ]
     },
     "metadata": {},
     "output_type": "display_data"
    }
   ],
   "source": [
    "print(\"Feature ranking:\")\n",
    "\n",
    "for f in range(toy_data_scaled.shape[1]):\n",
    "    print(\"%d. feature %d (%f), %s\" % (f + 1, indices[f], importances[indices[f]], data_t.columns[indices[f]]))\n",
    "\n",
    "plt.figure(figsize=(10,6))\n",
    "plt.title(\"Feature importances\")\n",
    "plt.bar(range(toy_data_scaled.shape[1]), importances[indices],\n",
    "       color=\"r\", yerr=std[indices], align=\"center\")\n",
    "plt.xticks(range(toy_data_scaled.shape[1]), indices)\n",
    "plt.xlim([-1, toy_data_scaled.shape[1]])\n",
    "plt.show()"
   ]
  },
  {
   "cell_type": "code",
   "execution_count": 24,
   "metadata": {
    "collapsed": false
   },
   "outputs": [
    {
     "data": {
      "text/plain": [
       "(10000, 25)"
      ]
     },
     "execution_count": 24,
     "metadata": {},
     "output_type": "execute_result"
    }
   ],
   "source": [
    "model = SelectFromModel(forest, prefit=True)\n",
    "toy_data_new = model.transform(toy_data_scaled)\n",
    "toy_data_new.shape"
   ]
  },
  {
   "cell_type": "code",
   "execution_count": 25,
   "metadata": {
    "collapsed": true
   },
   "outputs": [],
   "source": [
    "train_sizes, train_scores, test_scores = learning_curve(\n",
    "        LogisticRegression(), toy_data_new, toy_labels, cv=5, train_sizes=np.linspace(.1, 1.0, 20), scoring='accuracy')"
   ]
  },
  {
   "cell_type": "code",
   "execution_count": 26,
   "metadata": {
    "collapsed": false
   },
   "outputs": [
    {
     "data": {
      "image/png": "[encoded data removed]",
      "text/plain": [
       "<matplotlib.figure.Figure at 0x7fedc7730a90>"
      ]
     },
     "metadata": {},
     "output_type": "display_data"
    }
   ],
   "source": [
    "plt.plot(train_sizes, train_scores.mean(axis=1), label='train')\n",
    "plt.plot(train_sizes, test_scores.mean(axis=1), label='test')\n",
    "plt.legend(loc=0)\n",
    "plt.show()"
   ]
  },
  {
   "cell_type": "code",
   "execution_count": 28,
   "metadata": {
    "collapsed": false
   },
   "outputs": [],
   "source": [
    "lr_selected = LogisticRegression().fit(toy_data_new, toy_labels)"
   ]
  },
  {
   "cell_type": "code",
   "execution_count": 30,
   "metadata": {
    "collapsed": false
   },
   "outputs": [
    {
     "data": {
      "text/plain": [
       "0.69552000000000003"
      ]
     },
     "execution_count": 30,
     "metadata": {},
     "output_type": "execute_result"
    }
   ],
   "source": [
    "accuracy_score(lr_selected.predict(model.transform(test_data_scaled)), test_labels)"
   ]
  },
  {
   "cell_type": "markdown",
   "metadata": {},
   "source": [
    "Отбор признаков результат не улучшил"
   ]
  },
  {
   "cell_type": "markdown",
   "metadata": {},
   "source": [
    "## Задание 2"
   ]
  },
  {
   "cell_type": "code",
   "execution_count": 34,
   "metadata": {
    "collapsed": false
   },
   "outputs": [],
   "source": [
    "parameters_grid = {\n",
    "    #'gamma' : [0.0, 0.1, 0.3],\n",
    "    'learning_rate': [0.05, 0.1, 0.15, 0.3],\n",
    "    'max_depth': [3,5,7],\n",
    "    'n_estimators': [100, 500],\n",
    "    'colsample_bytree': [0.5],\n",
    "    'reg_lambda': [1.0, 0.9, 0.5],\n",
    "    #'reg_alpha': [0.0, 0.1, 0.5],\n",
    "    #'objective': ['reg:linear'],\n",
    "    #'min_child_weight': [1,3,5,7],\n",
    "}"
   ]
  },
  {
   "cell_type": "code",
   "execution_count": 35,
   "metadata": {
    "collapsed": true
   },
   "outputs": [],
   "source": [
    "grid_cv = GridSearchCV(xgb.XGBClassifier(), parameters_grid, scoring = 'accuracy')"
   ]
  },
  {
   "cell_type": "code",
   "execution_count": 36,
   "metadata": {
    "collapsed": false
   },
   "outputs": [
    {
     "name": "stdout",
     "output_type": "stream",
     "text": [
      "CPU times: user 27min 30s, sys: 7.62 s, total: 27min 37s\n",
      "Wall time: 7min 51s\n"
     ]
    },
    {
     "data": {
      "text/plain": [
       "GridSearchCV(cv=None, error_score='raise',\n",
       "       estimator=XGBClassifier(base_score=0.5, colsample_bylevel=1, colsample_bytree=1,\n",
       "       gamma=0, learning_rate=0.1, max_delta_step=0, max_depth=3,\n",
       "       min_child_weight=1, missing=None, n_estimators=100, nthread=-1,\n",
       "       objective='binary:logistic', reg_alpha=0, reg_lambda=1,\n",
       "       scale_pos_weight=1, seed=0, silent=True, subsample=1),\n",
       "       fit_params={}, iid=True, n_jobs=1,\n",
       "       param_grid={'n_estimators': [100, 500], 'reg_lambda': [1.0, 0.9, 0.5], 'learning_rate': [0.05, 0.1, 0.15, 0.3], 'colsample_bytree': [0.5], 'max_depth': [3, 5, 7]},\n",
       "       pre_dispatch='2*n_jobs', refit=True, scoring='accuracy', verbose=0)"
      ]
     },
     "execution_count": 36,
     "metadata": {},
     "output_type": "execute_result"
    }
   ],
   "source": [
    "%%time\n",
    "grid_cv.fit(toy_data_scaled, toy_labels)"
   ]
  },
  {
   "cell_type": "code",
   "execution_count": 37,
   "metadata": {
    "collapsed": false
   },
   "outputs": [
    {
     "name": "stdout",
     "output_type": "stream",
     "text": [
      "0.6962\n"
     ]
    },
    {
     "data": {
      "text/plain": [
       "XGBClassifier(base_score=0.5, colsample_bylevel=1, colsample_bytree=0.5,\n",
       "       gamma=0, learning_rate=0.1, max_delta_step=0, max_depth=5,\n",
       "       min_child_weight=1, missing=None, n_estimators=100, nthread=-1,\n",
       "       objective='binary:logistic', reg_alpha=0, reg_lambda=0.9,\n",
       "       scale_pos_weight=1, seed=0, silent=True, subsample=1)"
      ]
     },
     "execution_count": 37,
     "metadata": {},
     "output_type": "execute_result"
    }
   ],
   "source": [
    "print grid_cv.best_score_\n",
    "grid_cv.best_estimator_"
   ]
  },
  {
   "cell_type": "code",
   "execution_count": 38,
   "metadata": {
    "collapsed": false
   },
   "outputs": [
    {
     "data": {
      "text/plain": [
       "0.69531333333333334"
      ]
     },
     "execution_count": 38,
     "metadata": {},
     "output_type": "execute_result"
    }
   ],
   "source": [
    "accuracy_score(grid_cv.best_estimator_.predict(test_data_scaled), test_labels)"
   ]
  },
  {
   "cell_type": "markdown",
   "metadata": {},
   "source": [
    "Лучше не стало, результат сравним с обычной регрессией. Это говорит нам о том, что фичи, описывающие игровое состояние, построены не лучшим образом и больше никаких закономерностей обнаружить на них нельзя. (ну или делать перебор по большей сетке, но нет вычислительных ресурсов)"
   ]
  }
 ],
 "metadata": {
  "anaconda-cloud": {},
  "kernelspec": {
   "display_name": "Python [conda root]",
   "language": "python",
   "name": "conda-root-py"
  },
  "language_info": {
   "codemirror_mode": {
    "name": "ipython",
    "version": 2
   },
   "file_extension": ".py",
   "mimetype": "text/x-python",
   "name": "python",
   "nbconvert_exporter": "python",
   "pygments_lexer": "ipython2",
   "version": "2.7.13"
  },
  "widgets": {
   "state": {},
   "version": "1.1.2"
  }
 },
 "nbformat": 4,
 "nbformat_minor": 2
}
